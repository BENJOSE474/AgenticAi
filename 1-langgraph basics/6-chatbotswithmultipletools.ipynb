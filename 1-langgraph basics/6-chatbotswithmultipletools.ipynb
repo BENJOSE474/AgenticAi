{
 "cells": [
  {
   "cell_type": "code",
   "execution_count": 1,
   "id": "9bc6925f",
   "metadata": {},
   "outputs": [],
   "source": [
    "from langchain_community.tools import ArxivQueryRun,WikipediaQueryRun\n",
    "from langchain_community.utilities import WikipediaAPIWrapper,ArxivAPIWrapper"
   ]
  },
  {
   "cell_type": "code",
   "execution_count": 3,
   "id": "f8b49ffc",
   "metadata": {},
   "outputs": [
    {
     "name": "stdout",
     "output_type": "stream",
     "text": [
      "arxiv\n"
     ]
    }
   ],
   "source": [
    "api_wrapper_arxiv=ArxivAPIWrapper(top_k_results=2,doc_content_chars_max=500)\n",
    "arxiv=ArxivQueryRun(api_wrapper=api_wrapper_arxiv)\n",
    "print(arxiv.name)"
   ]
  },
  {
   "cell_type": "code",
   "execution_count": 4,
   "id": "a30fff51",
   "metadata": {},
   "outputs": [
    {
     "data": {
      "text/plain": [
       "'wikipedia'"
      ]
     },
     "execution_count": 4,
     "metadata": {},
     "output_type": "execute_result"
    }
   ],
   "source": [
    "api_wrapper_wiki=WikipediaAPIWrapper(top_k_results=1,doc_content_chars_max=500)\n",
    "wiki=WikipediaQueryRun(api_wrapper=api_wrapper_wiki)\n",
    "wiki.name"
   ]
  },
  {
   "cell_type": "code",
   "execution_count": 7,
   "id": "869c02e5",
   "metadata": {},
   "outputs": [],
   "source": [
    "from dotenv import load_dotenv\n",
    "load_dotenv()\n",
    "import os\n",
    "os.environ[\"TAVILY_API_KEY\"]=os.getenv(\"TAVILY_API_KEY\")"
   ]
  },
  {
   "cell_type": "code",
   "execution_count": 9,
   "id": "9f1db520",
   "metadata": {},
   "outputs": [
    {
     "name": "stderr",
     "output_type": "stream",
     "text": [
      "/var/folders/sw/q0vghxyj0cs6_3glp9q55pq80000gp/T/ipykernel_27604/3543858584.py:2: LangChainDeprecationWarning: The class `TavilySearchResults` was deprecated in LangChain 0.3.25 and will be removed in 1.0. An updated version of the class exists in the :class:`~langchain-tavily package and should be used instead. To use it run `pip install -U :class:`~langchain-tavily` and import as `from :class:`~langchain_tavily import TavilySearch``.\n",
      "  tavily=TavilySearchResults()\n"
     ]
    }
   ],
   "source": [
    "from langchain_community.tools.tavily_search import TavilySearchResults\n",
    "tavily=TavilySearchResults()"
   ]
  },
  {
   "cell_type": "code",
   "execution_count": 11,
   "id": "89904fff",
   "metadata": {},
   "outputs": [
    {
     "data": {
      "text/plain": [
       "[{'title': 'Kerala - Latest news, Live Updates, Politics, Events - The Hindu',\n",
       "  'url': 'https://www.thehindu.com/news/national/kerala/',\n",
       "  'content': '### One drowns, another missing in Achencoil river\\n\\n### Minister to open Bishop Valloppilly Memorial Museum on August 30\\n\\n### Suspension of vigilance court employee over secret recordings sparks row\\n\\n### IndiGo, Air India Express add more flights for Kannur airport ahead of Onam\\n\\nArtistes perform during the ‘Athachamayam’ procession marking the beginning of the annual harvest festival of Onam at Thripunithura in Ernakulam, Kerala, on Tuesday. [...] ### Atham pageantry heralds Onam in Kerala with artistic fervour, social messages\\n\\nAuthorities have intensified surveillance around the Kannur Central jail premises following the arrest of the accused.\\n\\n### Kannur jail smuggling racket: Youth admits to throwing ganja, mobiles inside for cash\\n\\nKerala Leader of the Opposition V.D. Satheesan  (file)\")\\n\\n### Kerala Opposition Leader V.D. Satheesan threatens to expose ‘shocking’ revelations involving CPI(M) [...] ### P.C. George, Swapna Suresh chargesheeted for alleged conspiracy against Kerala CM Pinarayi Vijayan\\n\\nChief Minister Pinarayi Vijayan hands over an Onam kit to a beneficiary during the launch of the Supplyco Onam fair in Thiruvananthapuram on Monday.\\n\\n### CM inaugurates Supplyco Onam fair\\n\\n### Satheesan threatens to expose ‘shocking’ revelations involving CPI(M)\\n\\nKerala Leader of the Opposition V.D. Satheesan  (file)\")',\n",
       "  'score': 0.6565047},\n",
       " {'title': 'Kerala News Today in English | Latest Kerala Updates - Onmanorama',\n",
       "  'url': 'https://www.onmanorama.com/news/kerala.html',\n",
       "  'content': \"## Kerala woman cop held in ₹20 lakh traffic challan fraud\\n\\nThe accused, identified as Santhy Krishnan (45), allegedly committed the offence between 2009 and October 30, 2021.\\n\\nKerala woman cop held in ₹20 lakh traffic challan fraud\\n\\n## Amoebic meningoencephalitis: Wayanad on alert, caution urged against swimming in polluted water\\n\\nThe health department advises seeking immediate medical treatment for symptoms like fever, emphasizing prevention measures such as avoiding polluted water bodies. [...] ## Kottayam MCH building collapse: HC directs KeLSA to inspect safety, medical standards at public hospitals\\n\\nThe incident happened on July 3, resulting in the death of Bindu, a 52-year-old native of Thalayolaparambu, Kottayam. She was trapped under the rubble and rescued two hours later.\\n\\nKottayam MCH building collapse: HC directs KeLSA to inspect safety, medical standards at public hospitals\\n\\n## 'Kadikali' competition brings generations together in Kasaragod's Mangad [...] ## Iritty municipality in Kannur launches drive against amoebic meningoencephalitis, jaundice\\n\\nIritty municipality is taking proactive steps to combat the spread of waterborne diseases.\\n\\nIritty municipality in Kannur launches drive against amoebic meningoencephalitis, jaundice\\n\\n## Kerala Tourism falls for Mona Lisa smile, drapes her with Kasavu, courts controversy\",\n",
       "  'score': 0.65252984},\n",
       " {'title': 'Nipah Virus Infection - India',\n",
       "  'url': 'https://www.who.int/emergencies/disease-outbreak-news/item/2025-DON577',\n",
       "  'content': 'As of July 2025, a total of nine NiV outbreaks have been reported in Kerala State. Recent case numbers reported in Kerala State are consistent with trends observed in previous years and are therefore not entirely unexpected. However, they continue to highlight a localized risk associated with NiV in that area. At this time, the overall risk to the broader national and regional population remains low.  The first outbreak was reported in 2018 (23 cases including confirmed and probable; CFR: 91%), [...] Between 17 May and 12 July 2025, the Information and Public Relations Department, Government of Kerala through a series of official press releases informed about four confirmed NiV cases, including two deaths, due to NiV infection from two districts of Kerala State. Of the four cases, two were reported from Malappuram and two from Palakkad district. This marks the first-ever outbreak in Palakkad District. Of the four cases, one case was reported in May (with symptom onset in April) and three in [...] followed by subsequent outbreaks in 2019 (a single case who survived), 2021 (one case; CFR: 100%), 2023 (six cases including two deaths; CFR: 33%), 2024 (two cases; CFR 100%), and 2025. So far in 2025, four confirmed cases of NiV, have been reported, all from Kerala State, with the symptom onset in April (one case), June (two cases) and July (one case).',\n",
       "  'score': 0.5993685},\n",
       " {'title': 'Kerala News Headlines - Mathrubhumi English',\n",
       "  'url': 'https://english.mathrubhumi.com/news/kerala',\n",
       "  'content': \"## KMRL kicks off DPR study for Kochi Metro's phase 3 to Nedumbassery Airport\\n\\nplaceholder\\nplaceholder\\n\\n## Onam rush: Kerala High Court denies NHAI plea to restart Paliyekkara toll\\n\\nplaceholder\\nplaceholder\\n\\n## Aryanad panchayat member's death: Police investigate suspected suicide linked to financial stress\\n\\nplaceholder\\nplaceholder\\n\\n## Kerala Government increases Onam allowance for rural and urban workers\\n\\nplaceholder\\nplaceholder [...] logo\\nlogo\\nlogo\\nlogo\\n\\n# News\\n\\n#### Share\\n\\n#### Filter\\n\\n#### BY DATE\\n\\n#### TYPE\\n\\n#### DURATION\\n\\n## CPM hits back at Satheesan’s remark; Govindan dismisses ‘impending bombs’, says explosions await Congress\\n\\nplaceholder\\nplaceholder\\n\\n## Big rail update: Third railway line from Ernakulam to Kayamkulam via Kottayam to come up\\n\\nplaceholder\\nplaceholder\\n\\n## From battlefield to rehabilitation of amputees: Renie Paul’s journey | WATCH\\n\\nplaceholder\\nplaceholder [...] ## Rahul Mamkootathil to be ‘silent’ in upcoming Kerala Assembly sessions\\n\\nplaceholder\\nplaceholder\\n\\n## Gulf airfares soar ahead of school reopening: Malayali families hit hard\\n\\nplaceholder\\nplaceholder\",\n",
       "  'score': 0.5917474},\n",
       " {'title': 'Kerala News,Politics,Latest Updates and Headlines',\n",
       "  'url': 'https://www.newindianexpress.com/states/kerala',\n",
       "  'content': 'There is a spurt in the smuggling of hybrid ganja into the state via airports. \\n\\n###### Hybrid ganja worth Rs 4 crore seized at Kochi airport\\n\\nCongress suspends MLA Rahul Mamkootathil amid sexual misconduct allegations\\n\\n###### Rahul Mamkootathil row puts Congress on back foot in Palakkad; BJP sees huge chance\\n\\nCongress suspends MLA Rahul Mamkootathil amid sexual misconduct allegations\\n\\n###### ‘A’ group throws weight behind Akhil and Abhijith for next Youth Congress state president post [...] The minister said voters in Palakkad and people across the state want the MLA to step down from his post. \\n\\n###### No harsh action on Mamkoottathil as he threatened Cong leadership, alleges Minister Sivankutty\\n\\n\"The CPM cannot escape with diversionary tactics. More truths will come out, and Kerala will be shocked,\" Satheesan said.\\n\\n###### Opposition Leader Satheesan warns CPM, BJP of explosive revelations in coming days [...] TNIE Logo white\\nTNIE Logo white\\n\\n# Kerala\\n\\n## Kerala\\n\\nAmoebic meningoencephalitis is among the deadliest infections worldwide, with a 97% global mortality rate. \\n\\n###### Rare amoebic variant detected in Kerala; total active cases touch 18\\n\\nThe cash, which was from three days\\' collection, was kept in a strong room.\\n\\n###### Former prison inmate arrested for stealing Rs 4.25 lakh from Poojappura jail cafeteria',\n",
       "  'score': 0.5737984}]"
      ]
     },
     "execution_count": 11,
     "metadata": {},
     "output_type": "execute_result"
    }
   ],
   "source": [
    "tavily.invoke(\"Provide recent news in kerala\")"
   ]
  },
  {
   "cell_type": "code",
   "execution_count": 13,
   "id": "51a8c6df",
   "metadata": {},
   "outputs": [],
   "source": [
    "tools=[arxiv,wiki,tavily]"
   ]
  },
  {
   "cell_type": "code",
   "execution_count": 14,
   "id": "66dc5e17",
   "metadata": {},
   "outputs": [],
   "source": [
    "from langchain_groq import ChatGroq\n",
    "llm=ChatGroq(model=\"gemma2-9b-it\")\n",
    "llm_with_tools=llm.bind_tools(tools)\n",
    "\n"
   ]
  },
  {
   "cell_type": "code",
   "execution_count": 15,
   "id": "2cde6ccb",
   "metadata": {},
   "outputs": [
    {
     "data": {
      "text/plain": [
       "AIMessage(content='', additional_kwargs={'tool_calls': [{'id': 's9pvw4zbt', 'function': {'arguments': '{\"query\":\"recent AI news\"}', 'name': 'tavily_search_results_json'}, 'type': 'function'}]}, response_metadata={'token_usage': {'completion_tokens': 88, 'prompt_tokens': 1286, 'total_tokens': 1374, 'completion_time': 0.16, 'prompt_time': 0.024393314, 'queue_time': 0.256373775, 'total_time': 0.184393314}, 'model_name': 'gemma2-9b-it', 'system_fingerprint': 'fp_10c08bf97d', 'service_tier': 'on_demand', 'finish_reason': 'tool_calls', 'logprobs': None}, id='run--ae238737-3097-408b-b0c5-9aed44201202-0', tool_calls=[{'name': 'tavily_search_results_json', 'args': {'query': 'recent AI news'}, 'id': 's9pvw4zbt', 'type': 'tool_call'}], usage_metadata={'input_tokens': 1286, 'output_tokens': 88, 'total_tokens': 1374})"
      ]
     },
     "execution_count": 15,
     "metadata": {},
     "output_type": "execute_result"
    }
   ],
   "source": [
    "from pprint import pprint\n",
    "from langchain_core.messages import AIMessage,HumanMessage\n",
    "llm_with_tools.invoke([HumanMessage(content=f\"What is recent AI news?\")])"
   ]
  },
  {
   "cell_type": "markdown",
   "id": "7e7ec75f",
   "metadata": {},
   "source": [
    "#CHATBOT"
   ]
  },
  {
   "cell_type": "code",
   "execution_count": 17,
   "id": "738d6cfb",
   "metadata": {},
   "outputs": [],
   "source": [
    "from typing import Annotated, TypedDict\n",
    "from langchain_core.messages import AnyMessage\n",
    "from  langgraph.graph.message import add_messages\n",
    "\n",
    "class State(TypedDict):\n",
    "    messages:Annotated[list[AnyMessage],add_messages]\n"
   ]
  },
  {
   "cell_type": "code",
   "execution_count": 21,
   "id": "d3d33add",
   "metadata": {},
   "outputs": [],
   "source": [
    "from IPython.display import Image,display\n",
    "from langgraph.graph import StateGraph,START,END\n",
    "from langgraph.prebuilt import ToolNode\n",
    "from langgraph.prebuilt import tools_condition\n",
    "\n",
    "def tool_calling_llm(state:State):\n",
    "    return{\"messages\":[llm_with_tools.invoke(state[\"messages\"])]}\n"
   ]
  },
  {
   "cell_type": "code",
   "execution_count": 23,
   "id": "cb5180f1",
   "metadata": {},
   "outputs": [
    {
     "data": {
      "text/plain": [
       "<langgraph.graph.state.StateGraph at 0x10d8ff080>"
      ]
     },
     "execution_count": 23,
     "metadata": {},
     "output_type": "execute_result"
    }
   ],
   "source": [
    "builder=StateGraph(State)\n",
    "builder.add_node(\"tool_calling_llm\",tool_calling_llm)\n",
    "builder.add_node(\"tools\",ToolNode(tools))\n",
    "\n",
    "builder.add_edge(START,\"tool_calling_llm\")\n",
    "builder.add_conditional_edges(\"tool_calling_llm\",tools_condition)\n",
    "builder.add_edge(\"tools\",END)"
   ]
  },
  {
   "cell_type": "code",
   "execution_count": 25,
   "id": "4d88466b",
   "metadata": {},
   "outputs": [
    {
     "data": {
      "image/png": "[encoded data removed]",
      "text/plain": [
       "<IPython.core.display.Image object>"
      ]
     },
     "metadata": {},
     "output_type": "display_data"
    }
   ],
   "source": [
    "from langgraph import graph\n",
    "\n",
    "\n",
    "graph=builder.compile()\n",
    "display(Image(graph.get_graph().draw_mermaid_png()))"
   ]
  }
 ],
 "metadata": {
  "kernelspec": {
   "display_name": "Python 3",
   "language": "python",
   "name": "python3"
  },
  "language_info": {
   "codemirror_mode": {
    "name": "ipython",
    "version": 3
   },
   "file_extension": ".py",
   "mimetype": "text/x-python",
   "name": "python",
   "nbconvert_exporter": "python",
   "pygments_lexer": "ipython3",
   "version": "3.12.0"
  }
 },
 "nbformat": 4,
 "nbformat_minor": 5
}
